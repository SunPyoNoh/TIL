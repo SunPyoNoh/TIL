{
 "cells": [
  {
   "cell_type": "code",
   "execution_count": 58,
   "metadata": {},
   "outputs": [],
   "source": [
    "from collections import Counter\n",
    "from konlpy.tag import Kkma\n",
    "from konlpy.utils import pprint\n",
    "from konlpy.tag import Twitter"
   ]
  },
  {
   "cell_type": "code",
   "execution_count": 59,
   "metadata": {},
   "outputs": [],
   "source": [
    "from konlpy.tag import Komoran\n",
    "from gensim.models import Word2Vec\n",
    "import matplotlib.pyplot as plt"
   ]
  },
  {
   "cell_type": "code",
   "execution_count": 60,
   "metadata": {},
   "outputs": [],
   "source": [
    "\n",
    "# 1. 이전 포스트에서 크롤링한 댓글파일을 읽기전용으로 호출함\n",
    "file = open('./test.txt','r',encoding='utf-8')\n",
    "lines = file.readlines()\n",
    "# 2. 변수 okja에 전체댓글을 다시저장\n",
    "okja = []\n",
    "for line in lines:\n",
    "    okja.append(line)\n",
    "file.close()\n"
   ]
  },
  {
   "cell_type": "code",
   "execution_count": 61,
   "metadata": {},
   "outputs": [],
   "source": [
    "\n",
    "twitter = Twitter()\n",
    "\n",
    "# 4. 각 문장별로 형태소 구분하기\n",
    "sentences_tag = []\n",
    "for sentence in okja:\n",
    "    morph = twitter.pos(sentence)\n",
    "    sentences_tag.append(morph)\n",
    "\n",
    "\n",
    "# 5. 명사 혹은 형용사인 품사만 선별해 리스트에 담기\n",
    "noun_adj_list = [] \n",
    "for sentence1 in sentences_tag:\n",
    "    for word, tag in sentence1:\n",
    "        if tag in ['Noun','Adjective']:\n",
    "            noun_adj_list.append(word)"
   ]
  },
  {
   "cell_type": "code",
   "execution_count": 62,
   "metadata": {},
   "outputs": [],
   "source": [
    "import nltk\n",
    "from nltk.corpus import stopwords\n",
    "from nltk.tokenize import word_tokenize\n",
    "import string"
   ]
  },
  {
   "cell_type": "code",
   "execution_count": 63,
   "metadata": {
    "scrolled": true
   },
   "outputs": [],
   "source": [
    "# stop_words=stop_words.split(' ')\n",
    "\n",
    "# result = []\n",
    "# for w in noun_adj_list:\n",
    "#     word_tokens = word_tokenize(w)\n",
    "#     if word_tokens not in stop_words:\n",
    "#         result.append(w)"
   ]
  },
  {
   "cell_type": "code",
   "execution_count": null,
   "metadata": {},
   "outputs": [],
   "source": [
    "# window크기 5, 최소 출현수 2, skip-gram, 10000번 학습\n",
    "model = Word2Vec(noun_adj_list,window = 5,min_count=2,sg=1,iter=10000)\n",
    "\n",
    "print(list(model.wv.vocab.keys()))\n",
    "print(\"vocab length : %d\"%len(model.wv.vocab))\n",
    "\n",
    "print(model.wv.most_similar(\"범\"))"
   ]
  },
  {
   "cell_type": "code",
   "execution_count": null,
   "metadata": {},
   "outputs": [],
   "source": []
  }
 ],
 "metadata": {
  "kernelspec": {
   "display_name": "Python 3",
   "language": "python",
   "name": "python3"
  },
  "language_info": {
   "codemirror_mode": {
    "name": "ipython",
    "version": 3
   },
   "file_extension": ".py",
   "mimetype": "text/x-python",
   "name": "python",
   "nbconvert_exporter": "python",
   "pygments_lexer": "ipython3",
   "version": "3.7.5"
  }
 },
 "nbformat": 4,
 "nbformat_minor": 2
}
